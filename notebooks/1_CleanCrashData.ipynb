{
 "cells": [
  {
   "cell_type": "code",
   "execution_count": 1,
   "metadata": {},
   "outputs": [
    {
     "data": {
      "text/plain": [
       "True"
      ]
     },
     "execution_count": 1,
     "metadata": {},
     "output_type": "execute_result"
    }
   ],
   "source": [
    "import os\n",
    "import pandas as pd\n",
    "from utils import *\n",
    "\n",
    "from dotenv import load_dotenv\n",
    "load_dotenv()"
   ]
  },
  {
   "cell_type": "code",
   "execution_count": 2,
   "metadata": {},
   "outputs": [],
   "source": [
    "crash_data_path = os.path.join(os.getenv('PATH_TO_DATA'), 'Crash_Data_(SOR).csv')\n",
    "df = pd.read_csv(crash_data_path, low_memory=False)\n",
    "\n",
    "df = df[['X', 'Y', 'OBJECTID']]\n",
    "df = df.sort_values(by=['X', 'Y']).fillna(0)\n",
    "\n",
    "df = df[df['X'] != 0]\n",
    "df = df[df['Y'] != 0]\n",
    "\n",
    "# For Iowa\n",
    "df.sort_values(by=['X', 'Y'])\n",
    "df = df.loc[(df['X'] > -98) & (df['X'] < -89) & (df['Y'] > 39) & (df['Y'] < 44)]\n",
    "\n",
    "## drop duplicates\n",
    "df.drop_duplicates(subset=['X', 'Y'], keep='first', inplace=True)\n"
   ]
  },
  {
   "cell_type": "code",
   "execution_count": 3,
   "metadata": {},
   "outputs": [
    {
     "data": {
      "text/html": [
       "<div>\n",
       "<style scoped>\n",
       "    .dataframe tbody tr th:only-of-type {\n",
       "        vertical-align: middle;\n",
       "    }\n",
       "\n",
       "    .dataframe tbody tr th {\n",
       "        vertical-align: top;\n",
       "    }\n",
       "\n",
       "    .dataframe thead th {\n",
       "        text-align: right;\n",
       "    }\n",
       "</style>\n",
       "<table border=\"1\" class=\"dataframe\">\n",
       "  <thead>\n",
       "    <tr style=\"text-align: right;\">\n",
       "      <th></th>\n",
       "      <th>X</th>\n",
       "      <th>Y</th>\n",
       "      <th>OBJECTID</th>\n",
       "    </tr>\n",
       "  </thead>\n",
       "  <tbody>\n",
       "    <tr>\n",
       "      <th>217287</th>\n",
       "      <td>-96.643700</td>\n",
       "      <td>40.233091</td>\n",
       "      <td>11783306</td>\n",
       "    </tr>\n",
       "    <tr>\n",
       "      <th>48</th>\n",
       "      <td>-96.643700</td>\n",
       "      <td>40.233091</td>\n",
       "      <td>2181613</td>\n",
       "    </tr>\n",
       "    <tr>\n",
       "      <th>524535</th>\n",
       "      <td>-96.630874</td>\n",
       "      <td>42.761803</td>\n",
       "      <td>14844815</td>\n",
       "    </tr>\n",
       "    <tr>\n",
       "      <th>405064</th>\n",
       "      <td>-96.627809</td>\n",
       "      <td>42.761829</td>\n",
       "      <td>14725344</td>\n",
       "    </tr>\n",
       "    <tr>\n",
       "      <th>793798</th>\n",
       "      <td>-96.622702</td>\n",
       "      <td>42.761846</td>\n",
       "      <td>15695359</td>\n",
       "    </tr>\n",
       "    <tr>\n",
       "      <th>...</th>\n",
       "      <td>...</td>\n",
       "      <td>...</td>\n",
       "      <td>...</td>\n",
       "    </tr>\n",
       "    <tr>\n",
       "      <th>669387</th>\n",
       "      <td>-90.167288</td>\n",
       "      <td>42.104233</td>\n",
       "      <td>14989667</td>\n",
       "    </tr>\n",
       "    <tr>\n",
       "      <th>87794</th>\n",
       "      <td>-90.164347</td>\n",
       "      <td>42.104286</td>\n",
       "      <td>2628369</td>\n",
       "    </tr>\n",
       "    <tr>\n",
       "      <th>156309</th>\n",
       "      <td>-90.164323</td>\n",
       "      <td>42.104286</td>\n",
       "      <td>7535115</td>\n",
       "    </tr>\n",
       "    <tr>\n",
       "      <th>111080</th>\n",
       "      <td>-90.161321</td>\n",
       "      <td>42.104347</td>\n",
       "      <td>7489886</td>\n",
       "    </tr>\n",
       "    <tr>\n",
       "      <th>20570</th>\n",
       "      <td>-90.161309</td>\n",
       "      <td>42.104346</td>\n",
       "      <td>2261909</td>\n",
       "    </tr>\n",
       "  </tbody>\n",
       "</table>\n",
       "<p>628260 rows × 3 columns</p>\n",
       "</div>"
      ],
      "text/plain": [
       "                X          Y  OBJECTID\n",
       "217287 -96.643700  40.233091  11783306\n",
       "48     -96.643700  40.233091   2181613\n",
       "524535 -96.630874  42.761803  14844815\n",
       "405064 -96.627809  42.761829  14725344\n",
       "793798 -96.622702  42.761846  15695359\n",
       "...           ...        ...       ...\n",
       "669387 -90.167288  42.104233  14989667\n",
       "87794  -90.164347  42.104286   2628369\n",
       "156309 -90.164323  42.104286   7535115\n",
       "111080 -90.161321  42.104347   7489886\n",
       "20570  -90.161309  42.104346   2261909\n",
       "\n",
       "[628260 rows x 3 columns]"
      ]
     },
     "execution_count": 3,
     "metadata": {},
     "output_type": "execute_result"
    }
   ],
   "source": [
    "df"
   ]
  },
  {
   "cell_type": "code",
   "execution_count": 4,
   "metadata": {},
   "outputs": [],
   "source": [
    "output_file = os.path.join(os.getenv('PATH_TO_DATA'), 'crash_data_cleaned.csv')\n",
    "df.to_csv(output_file, index=False)"
   ]
  },
  {
   "cell_type": "code",
   "execution_count": null,
   "metadata": {},
   "outputs": [],
   "source": []
  }
 ],
 "metadata": {
  "kernelspec": {
   "display_name": "s_env",
   "language": "python",
   "name": "python3"
  },
  "language_info": {
   "codemirror_mode": {
    "name": "ipython",
    "version": 3
   },
   "file_extension": ".py",
   "mimetype": "text/x-python",
   "name": "python",
   "nbconvert_exporter": "python",
   "pygments_lexer": "ipython3",
   "version": "3.12.3"
  }
 },
 "nbformat": 4,
 "nbformat_minor": 2
}
