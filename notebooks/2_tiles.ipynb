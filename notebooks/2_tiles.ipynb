{
 "cells": [
  {
   "cell_type": "code",
   "execution_count": null,
   "metadata": {},
   "outputs": [],
   "source": [
    "import os\n",
    "from utils import *\n",
    "import pandas as pd\n",
    "import mercantile, requests, os\n",
    "from vt2geojson.tools import vt_bytes_to_geojson\n",
    "import time\n"
   ]
  },
  {
   "cell_type": "markdown",
   "metadata": {},
   "source": [
    "#### Get Crash data and north most and south most points"
   ]
  },
  {
   "cell_type": "code",
   "execution_count": null,
   "metadata": {},
   "outputs": [],
   "source": [
    "crash_site_data_path = os.path.join(os.getenv('PATH_TO_DATA'), 'crash_data_cleaned.csv')\n",
    "df_crash_site = pd.read_csv(crash_site_data_path)"
   ]
  },
  {
   "cell_type": "code",
   "execution_count": null,
   "metadata": {},
   "outputs": [],
   "source": [
    "max_long = df_crash_site['X'].max()\n",
    "min_long = df_crash_site['X'].min()\n",
    "\n",
    "max_lat = df_crash_site['Y'].max()\n",
    "min_lat = df_crash_site['Y'].min()\n",
    "\n",
    "west, south, east, north = min_long, min_lat, max_long, max_lat"
   ]
  },
  {
   "cell_type": "code",
   "execution_count": null,
   "metadata": {},
   "outputs": [],
   "source": [
    "## Helper functions\n",
    "\n",
    "def process_tile(data):\n",
    "    all_data = {}\n",
    "    miss_count = 0\n",
    "    for i, feature in enumerate(data['features']):\n",
    "        properties = feature['properties']\n",
    "        coordinates = feature['geometry']['coordinates']\n",
    "\n",
    "        data_feature = {\n",
    "            \"sequence_id\": properties['sequence_id'],\n",
    "            \"image_id\": properties['id'],\n",
    "            # Note the order (lat, lon)\n",
    "            \"img_taken_coord\": f\"{coordinates[1]}, {coordinates[0]}\",\n",
    "            \"is_pano\": properties['is_pano'],\n",
    "            \"compass_angle\": properties['compass_angle'],\n",
    "        }\n",
    "\n",
    "        if west < coordinates[0] < east and south < coordinates[1] < north:\n",
    "            all_data[i] = data_feature\n",
    "        else:\n",
    "            miss_count += 1\n",
    "\n",
    "    return all_data, miss_count\n",
    "\n",
    "def get_tile_data(tile, access_token, tile_layer):\n",
    "    tile_url = f'https://tiles.mapillary.com/maps/vtp/mly1_public/2/{tile.z}/{tile.x}/{tile.y}?access_token={access_token}'\n",
    "    response = requests.get(tile_url)\n",
    "    data = vt_bytes_to_geojson(response.content, tile.x, tile.y, tile.z, layer=tile_layer)\n",
    "    return data, tile_url"
   ]
  },
  {
   "cell_type": "code",
   "execution_count": null,
   "metadata": {},
   "outputs": [],
   "source": [
    "access_token = os.getenv('CLIENT_TOKEN')\n",
    "\n",
    "if not access_token:\n",
    "    raise ValueError(\"CLIENT_TOKEN environment variable not set\")"
   ]
  },
  {
   "cell_type": "code",
   "execution_count": null,
   "metadata": {},
   "outputs": [],
   "source": [
    "tile_output_folder = os.path.join(os.getenv('PATH_TO_DATA'), 'tiles')\n",
    "if not os.path.exists(tile_output_folder):\n",
    "    os.makedirs(tile_output_folder)"
   ]
  },
  {
   "cell_type": "code",
   "execution_count": null,
   "metadata": {},
   "outputs": [],
   "source": [
    "## Create tiles for the bounding box, zoom = 14 for Mapillary\n",
    "tiles = list(mercantile.tiles(\n",
    "    west = west, \n",
    "    south = south, \n",
    "    east= east, \n",
    "    north = north, \n",
    "    zooms = 14\n",
    "    ))"
   ]
  },
  {
   "cell_type": "code",
   "execution_count": null,
   "metadata": {},
   "outputs": [],
   "source": [
    "# Define the path to the logs\n",
    "path_to_data = os.getenv('PATH_TO_DATA', '')  # Default to empty string if not set\n",
    "if not path_to_data:\n",
    "    raise ValueError(\"Environment variable 'PATH_TO_DATA' is not set.\")\n",
    "\n",
    "logs_path = os.path.join(path_to_data, 'logs')\n",
    "logs_file = os.path.join(logs_path, 'tile_logs.txt')\n",
    "\n",
    "# Create the logs directory if it doesn't exist\n",
    "if not os.path.exists(logs_path):\n",
    "    os.makedirs(logs_path)\n",
    "\n",
    "def record_df(df, tile, tile_data_file_path, error=None):\n",
    "    log_entry = f\"{tile}, data_df_shape = {df.shape}, Error = {error}\\n\"\n",
    "    with open(logs_file, 'a') as f:\n",
    "        f.write(log_entry)\n",
    "\n",
    "    # Save the data to a csv file\n",
    "    df.to_csv(tile_data_file_path, index=False)\n",
    "            \n",
    "    \n",
    "        "
   ]
  },
  {
   "cell_type": "code",
   "execution_count": null,
   "metadata": {},
   "outputs": [],
   "source": [
    "## Go through each tile\n",
    "## Try downloading and cleaning the data\n",
    "## If there is an error, record the error and tile information\n",
    "for tile in tiles:\n",
    "    tile_data_file_name = f\"tile_data_{tile.z}_{tile.x}_{tile.y}.csv\"\n",
    "    tile_data_file_path = os.path.join(tile_output_folder, tile_data_file_name)\n",
    "\n",
    "    if not os.path.exists(tile_data_file_path):\n",
    "        df_tile = pd.DataFrame()\n",
    "        try:\n",
    "            time.sleep(5)\n",
    "            data, url = get_tile_data(tile, access_token, \"image\")\n",
    "            all_data, miss_count = process_tile(data)\n",
    "            df_tile = pd.DataFrame(all_data).T\n",
    "            record_df(df_tile, tile, tile_data_file_path)\n",
    "\n",
    "        except Exception as e:\n",
    "            record_df(df_tile, tile, tile_data_file_path, error=e)\n",
    "\n",
    "\n"
   ]
  },
  {
   "cell_type": "code",
   "execution_count": null,
   "metadata": {},
   "outputs": [],
   "source": []
  }
 ],
 "metadata": {
  "kernelspec": {
   "display_name": "s_env",
   "language": "python",
   "name": "python3"
  },
  "language_info": {
   "codemirror_mode": {
    "name": "ipython",
    "version": 3
   },
   "file_extension": ".py",
   "mimetype": "text/x-python",
   "name": "python",
   "nbconvert_exporter": "python",
   "pygments_lexer": "ipython3",
   "version": "3.12.3"
  }
 },
 "nbformat": 4,
 "nbformat_minor": 2
}
